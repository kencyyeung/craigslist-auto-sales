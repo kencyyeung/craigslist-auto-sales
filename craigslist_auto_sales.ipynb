{
 "cells": [
  {
   "cell_type": "markdown",
   "metadata": {},
   "source": [
    "Goal of the exercise is to cleanup & explore data from the Craigslists auto sales classifields. \n",
    "Data is sourced from Kaggle from the following link:\n",
    "https://www.kaggle.com/austinreese/craigslist-carstrucks-data\n",
    "\n",
    "Still a WIP..."
   ]
  },
  {
   "cell_type": "code",
   "execution_count": 3,
   "metadata": {},
   "outputs": [],
   "source": [
    "import pandas as pd\n",
    "import numpy as np\n",
    "import matplotlib.pyplot as plt"
   ]
  },
  {
   "cell_type": "code",
   "execution_count": 4,
   "metadata": {},
   "outputs": [],
   "source": [
    "#Load in the data & create Pandas dataframe\n",
    "cz_df = pd.read_csv('craigslist-carstrucks-data-v2/craigslistVehiclesFull.csv')"
   ]
  },
  {
   "cell_type": "code",
   "execution_count": 5,
   "metadata": {},
   "outputs": [
    {
     "data": {
      "text/html": [
       "<div>\n",
       "<style scoped>\n",
       "    .dataframe tbody tr th:only-of-type {\n",
       "        vertical-align: middle;\n",
       "    }\n",
       "\n",
       "    .dataframe tbody tr th {\n",
       "        vertical-align: top;\n",
       "    }\n",
       "\n",
       "    .dataframe thead th {\n",
       "        text-align: right;\n",
       "    }\n",
       "</style>\n",
       "<table border=\"1\" class=\"dataframe\">\n",
       "  <thead>\n",
       "    <tr style=\"text-align: right;\">\n",
       "      <th></th>\n",
       "      <th>url</th>\n",
       "      <th>city</th>\n",
       "      <th>price</th>\n",
       "      <th>year</th>\n",
       "      <th>manufacturer</th>\n",
       "      <th>make</th>\n",
       "      <th>condition</th>\n",
       "      <th>cylinders</th>\n",
       "      <th>fuel</th>\n",
       "      <th>odometer</th>\n",
       "      <th>...</th>\n",
       "      <th>paint_color</th>\n",
       "      <th>image_url</th>\n",
       "      <th>lat</th>\n",
       "      <th>long</th>\n",
       "      <th>county_fips</th>\n",
       "      <th>county_name</th>\n",
       "      <th>state_fips</th>\n",
       "      <th>state_code</th>\n",
       "      <th>state_name</th>\n",
       "      <th>weather</th>\n",
       "    </tr>\n",
       "  </thead>\n",
       "  <tbody>\n",
       "    <tr>\n",
       "      <th>0</th>\n",
       "      <td>https://marshall.craigslist.org/cto/d/2010-dod...</td>\n",
       "      <td>marshall</td>\n",
       "      <td>11900</td>\n",
       "      <td>2010.0</td>\n",
       "      <td>dodge</td>\n",
       "      <td>challenger se</td>\n",
       "      <td>good</td>\n",
       "      <td>6 cylinders</td>\n",
       "      <td>gas</td>\n",
       "      <td>43600.0</td>\n",
       "      <td>...</td>\n",
       "      <td>red</td>\n",
       "      <td>https://images.craigslist.org/00i0i_2ggH1eKDNK...</td>\n",
       "      <td>43.4775</td>\n",
       "      <td>-96.7041</td>\n",
       "      <td>46083.0</td>\n",
       "      <td>Lincoln</td>\n",
       "      <td>46.0</td>\n",
       "      <td>SD</td>\n",
       "      <td>South Dakota</td>\n",
       "      <td>38.0</td>\n",
       "    </tr>\n",
       "    <tr>\n",
       "      <th>1</th>\n",
       "      <td>https://marshall.craigslist.org/cto/d/fleetwoo...</td>\n",
       "      <td>marshall</td>\n",
       "      <td>1515</td>\n",
       "      <td>1999.0</td>\n",
       "      <td>NaN</td>\n",
       "      <td>fleetwood</td>\n",
       "      <td>NaN</td>\n",
       "      <td>NaN</td>\n",
       "      <td>gas</td>\n",
       "      <td>NaN</td>\n",
       "      <td>...</td>\n",
       "      <td>NaN</td>\n",
       "      <td>https://images.craigslist.org/00M0M_irjh7SjEcU...</td>\n",
       "      <td>44.7612</td>\n",
       "      <td>-96.6907</td>\n",
       "      <td>46039.0</td>\n",
       "      <td>Deuel</td>\n",
       "      <td>46.0</td>\n",
       "      <td>SD</td>\n",
       "      <td>South Dakota</td>\n",
       "      <td>38.0</td>\n",
       "    </tr>\n",
       "    <tr>\n",
       "      <th>2</th>\n",
       "      <td>https://marshall.craigslist.org/cto/d/2008-for...</td>\n",
       "      <td>marshall</td>\n",
       "      <td>17550</td>\n",
       "      <td>2008.0</td>\n",
       "      <td>ford</td>\n",
       "      <td>f-150</td>\n",
       "      <td>NaN</td>\n",
       "      <td>NaN</td>\n",
       "      <td>gas</td>\n",
       "      <td>NaN</td>\n",
       "      <td>...</td>\n",
       "      <td>NaN</td>\n",
       "      <td>https://images.craigslist.org/00s0s_eL2XFhEUcx...</td>\n",
       "      <td>44.1415</td>\n",
       "      <td>-103.2052</td>\n",
       "      <td>46093.0</td>\n",
       "      <td>Meade</td>\n",
       "      <td>46.0</td>\n",
       "      <td>SD</td>\n",
       "      <td>South Dakota</td>\n",
       "      <td>38.0</td>\n",
       "    </tr>\n",
       "    <tr>\n",
       "      <th>3</th>\n",
       "      <td>https://marshall.craigslist.org/cto/d/ford-tau...</td>\n",
       "      <td>marshall</td>\n",
       "      <td>2800</td>\n",
       "      <td>2004.0</td>\n",
       "      <td>ford</td>\n",
       "      <td>taurus</td>\n",
       "      <td>good</td>\n",
       "      <td>6 cylinders</td>\n",
       "      <td>gas</td>\n",
       "      <td>168591.0</td>\n",
       "      <td>...</td>\n",
       "      <td>grey</td>\n",
       "      <td>https://images.craigslist.org/00L0L_5HUR1nQjt8...</td>\n",
       "      <td>43.2845</td>\n",
       "      <td>-95.5930</td>\n",
       "      <td>19143.0</td>\n",
       "      <td>Osceola</td>\n",
       "      <td>19.0</td>\n",
       "      <td>IA</td>\n",
       "      <td>Iowa</td>\n",
       "      <td>47.0</td>\n",
       "    </tr>\n",
       "    <tr>\n",
       "      <th>4</th>\n",
       "      <td>https://marshall.craigslist.org/cto/d/2001-gra...</td>\n",
       "      <td>marshall</td>\n",
       "      <td>400</td>\n",
       "      <td>2001.0</td>\n",
       "      <td>NaN</td>\n",
       "      <td>2001 Grand Prix</td>\n",
       "      <td>NaN</td>\n",
       "      <td>NaN</td>\n",
       "      <td>gas</td>\n",
       "      <td>217000.0</td>\n",
       "      <td>...</td>\n",
       "      <td>NaN</td>\n",
       "      <td>https://images.craigslist.org/00n0n_bJJ1XnonSG...</td>\n",
       "      <td>43.0261</td>\n",
       "      <td>-94.4064</td>\n",
       "      <td>19109.0</td>\n",
       "      <td>Kossuth</td>\n",
       "      <td>19.0</td>\n",
       "      <td>IA</td>\n",
       "      <td>Iowa</td>\n",
       "      <td>47.0</td>\n",
       "    </tr>\n",
       "  </tbody>\n",
       "</table>\n",
       "<p>5 rows × 26 columns</p>\n",
       "</div>"
      ],
      "text/plain": [
       "                                                 url      city  price    year  \\\n",
       "0  https://marshall.craigslist.org/cto/d/2010-dod...  marshall  11900  2010.0   \n",
       "1  https://marshall.craigslist.org/cto/d/fleetwoo...  marshall   1515  1999.0   \n",
       "2  https://marshall.craigslist.org/cto/d/2008-for...  marshall  17550  2008.0   \n",
       "3  https://marshall.craigslist.org/cto/d/ford-tau...  marshall   2800  2004.0   \n",
       "4  https://marshall.craigslist.org/cto/d/2001-gra...  marshall    400  2001.0   \n",
       "\n",
       "  manufacturer             make condition    cylinders fuel  odometer  ...  \\\n",
       "0        dodge    challenger se      good  6 cylinders  gas   43600.0  ...   \n",
       "1          NaN        fleetwood       NaN          NaN  gas       NaN  ...   \n",
       "2         ford            f-150       NaN          NaN  gas       NaN  ...   \n",
       "3         ford           taurus      good  6 cylinders  gas  168591.0  ...   \n",
       "4          NaN  2001 Grand Prix       NaN          NaN  gas  217000.0  ...   \n",
       "\n",
       "  paint_color                                          image_url      lat  \\\n",
       "0         red  https://images.craigslist.org/00i0i_2ggH1eKDNK...  43.4775   \n",
       "1         NaN  https://images.craigslist.org/00M0M_irjh7SjEcU...  44.7612   \n",
       "2         NaN  https://images.craigslist.org/00s0s_eL2XFhEUcx...  44.1415   \n",
       "3        grey  https://images.craigslist.org/00L0L_5HUR1nQjt8...  43.2845   \n",
       "4         NaN  https://images.craigslist.org/00n0n_bJJ1XnonSG...  43.0261   \n",
       "\n",
       "       long county_fips county_name state_fips state_code    state_name  \\\n",
       "0  -96.7041     46083.0     Lincoln       46.0         SD  South Dakota   \n",
       "1  -96.6907     46039.0       Deuel       46.0         SD  South Dakota   \n",
       "2 -103.2052     46093.0       Meade       46.0         SD  South Dakota   \n",
       "3  -95.5930     19143.0     Osceola       19.0         IA          Iowa   \n",
       "4  -94.4064     19109.0     Kossuth       19.0         IA          Iowa   \n",
       "\n",
       "   weather  \n",
       "0     38.0  \n",
       "1     38.0  \n",
       "2     38.0  \n",
       "3     47.0  \n",
       "4     47.0  \n",
       "\n",
       "[5 rows x 26 columns]"
      ]
     },
     "execution_count": 5,
     "metadata": {},
     "output_type": "execute_result"
    }
   ],
   "source": [
    "cz_df.head()"
   ]
  },
  {
   "cell_type": "markdown",
   "metadata": {},
   "source": [
    "The raw dataset contains many statistical outliers in regards to highly unregulated craigslist postings. Price, year & odometer minimums & maximums reflect seller misinformation. "
   ]
  },
  {
   "cell_type": "code",
   "execution_count": 6,
   "metadata": {
    "scrolled": true
   },
   "outputs": [
    {
     "data": {
      "text/html": [
       "<div>\n",
       "<style scoped>\n",
       "    .dataframe tbody tr th:only-of-type {\n",
       "        vertical-align: middle;\n",
       "    }\n",
       "\n",
       "    .dataframe tbody tr th {\n",
       "        vertical-align: top;\n",
       "    }\n",
       "\n",
       "    .dataframe thead th {\n",
       "        text-align: right;\n",
       "    }\n",
       "</style>\n",
       "<table border=\"1\" class=\"dataframe\">\n",
       "  <thead>\n",
       "    <tr style=\"text-align: right;\">\n",
       "      <th></th>\n",
       "      <th>price</th>\n",
       "      <th>year</th>\n",
       "      <th>odometer</th>\n",
       "      <th>lat</th>\n",
       "      <th>long</th>\n",
       "      <th>county_fips</th>\n",
       "      <th>state_fips</th>\n",
       "      <th>weather</th>\n",
       "    </tr>\n",
       "  </thead>\n",
       "  <tbody>\n",
       "    <tr>\n",
       "      <th>count</th>\n",
       "      <td>1.723065e+06</td>\n",
       "      <td>1.716750e+06</td>\n",
       "      <td>1.159011e+06</td>\n",
       "      <td>1.723065e+06</td>\n",
       "      <td>1.723065e+06</td>\n",
       "      <td>1.664232e+06</td>\n",
       "      <td>1.664232e+06</td>\n",
       "      <td>1.663637e+06</td>\n",
       "    </tr>\n",
       "    <tr>\n",
       "      <th>mean</th>\n",
       "      <td>1.075540e+05</td>\n",
       "      <td>2.004841e+03</td>\n",
       "      <td>1.136387e+05</td>\n",
       "      <td>3.878195e+01</td>\n",
       "      <td>-9.371198e+01</td>\n",
       "      <td>2.843053e+04</td>\n",
       "      <td>2.834410e+01</td>\n",
       "      <td>5.378706e+01</td>\n",
       "    </tr>\n",
       "    <tr>\n",
       "      <th>std</th>\n",
       "      <td>1.004439e+07</td>\n",
       "      <td>1.208772e+01</td>\n",
       "      <td>1.368603e+05</td>\n",
       "      <td>5.976412e+00</td>\n",
       "      <td>1.696519e+01</td>\n",
       "      <td>1.605423e+04</td>\n",
       "      <td>1.603224e+01</td>\n",
       "      <td>7.799381e+00</td>\n",
       "    </tr>\n",
       "    <tr>\n",
       "      <th>min</th>\n",
       "      <td>1.000000e+00</td>\n",
       "      <td>3.020000e+02</td>\n",
       "      <td>0.000000e+00</td>\n",
       "      <td>-8.481005e+01</td>\n",
       "      <td>-1.000000e+03</td>\n",
       "      <td>1.001000e+03</td>\n",
       "      <td>1.000000e+00</td>\n",
       "      <td>2.900000e+01</td>\n",
       "    </tr>\n",
       "    <tr>\n",
       "      <th>25%</th>\n",
       "      <td>3.295000e+03</td>\n",
       "      <td>2.002000e+03</td>\n",
       "      <td>5.800000e+04</td>\n",
       "      <td>3.491900e+01</td>\n",
       "      <td>-1.058010e+02</td>\n",
       "      <td>1.212300e+04</td>\n",
       "      <td>1.200000e+01</td>\n",
       "      <td>4.800000e+01</td>\n",
       "    </tr>\n",
       "    <tr>\n",
       "      <th>50%</th>\n",
       "      <td>7.000000e+03</td>\n",
       "      <td>2.007000e+03</td>\n",
       "      <td>1.070000e+05</td>\n",
       "      <td>3.940989e+01</td>\n",
       "      <td>-8.824070e+01</td>\n",
       "      <td>2.902100e+04</td>\n",
       "      <td>2.900000e+01</td>\n",
       "      <td>5.300000e+01</td>\n",
       "    </tr>\n",
       "    <tr>\n",
       "      <th>75%</th>\n",
       "      <td>1.499900e+04</td>\n",
       "      <td>2.012000e+03</td>\n",
       "      <td>1.520000e+05</td>\n",
       "      <td>4.255459e+01</td>\n",
       "      <td>-8.102650e+01</td>\n",
       "      <td>4.106700e+04</td>\n",
       "      <td>4.100000e+01</td>\n",
       "      <td>5.900000e+01</td>\n",
       "    </tr>\n",
       "    <tr>\n",
       "      <th>max</th>\n",
       "      <td>2.068627e+09</td>\n",
       "      <td>2.019000e+03</td>\n",
       "      <td>1.000000e+07</td>\n",
       "      <td>9.000000e+01</td>\n",
       "      <td>1.397061e+02</td>\n",
       "      <td>5.604500e+04</td>\n",
       "      <td>5.600000e+01</td>\n",
       "      <td>7.900000e+01</td>\n",
       "    </tr>\n",
       "  </tbody>\n",
       "</table>\n",
       "</div>"
      ],
      "text/plain": [
       "              price          year      odometer           lat          long  \\\n",
       "count  1.723065e+06  1.716750e+06  1.159011e+06  1.723065e+06  1.723065e+06   \n",
       "mean   1.075540e+05  2.004841e+03  1.136387e+05  3.878195e+01 -9.371198e+01   \n",
       "std    1.004439e+07  1.208772e+01  1.368603e+05  5.976412e+00  1.696519e+01   \n",
       "min    1.000000e+00  3.020000e+02  0.000000e+00 -8.481005e+01 -1.000000e+03   \n",
       "25%    3.295000e+03  2.002000e+03  5.800000e+04  3.491900e+01 -1.058010e+02   \n",
       "50%    7.000000e+03  2.007000e+03  1.070000e+05  3.940989e+01 -8.824070e+01   \n",
       "75%    1.499900e+04  2.012000e+03  1.520000e+05  4.255459e+01 -8.102650e+01   \n",
       "max    2.068627e+09  2.019000e+03  1.000000e+07  9.000000e+01  1.397061e+02   \n",
       "\n",
       "        county_fips    state_fips       weather  \n",
       "count  1.664232e+06  1.664232e+06  1.663637e+06  \n",
       "mean   2.843053e+04  2.834410e+01  5.378706e+01  \n",
       "std    1.605423e+04  1.603224e+01  7.799381e+00  \n",
       "min    1.001000e+03  1.000000e+00  2.900000e+01  \n",
       "25%    1.212300e+04  1.200000e+01  4.800000e+01  \n",
       "50%    2.902100e+04  2.900000e+01  5.300000e+01  \n",
       "75%    4.106700e+04  4.100000e+01  5.900000e+01  \n",
       "max    5.604500e+04  5.600000e+01  7.900000e+01  "
      ]
     },
     "execution_count": 6,
     "metadata": {},
     "output_type": "execute_result"
    }
   ],
   "source": [
    "cz_df.describe()"
   ]
  },
  {
   "cell_type": "code",
   "execution_count": 7,
   "metadata": {},
   "outputs": [
    {
     "name": "stdout",
     "output_type": "stream",
     "text": [
      "<class 'pandas.core.frame.DataFrame'>\n",
      "RangeIndex: 1723065 entries, 0 to 1723064\n",
      "Data columns (total 26 columns):\n",
      "url             object\n",
      "city            object\n",
      "price           int64\n",
      "year            float64\n",
      "manufacturer    object\n",
      "make            object\n",
      "condition       object\n",
      "cylinders       object\n",
      "fuel            object\n",
      "odometer        float64\n",
      "title_status    object\n",
      "transmission    object\n",
      "vin             object\n",
      "drive           object\n",
      "size            object\n",
      "type            object\n",
      "paint_color     object\n",
      "image_url       object\n",
      "lat             float64\n",
      "long            float64\n",
      "county_fips     float64\n",
      "county_name     object\n",
      "state_fips      float64\n",
      "state_code      object\n",
      "state_name      object\n",
      "weather         float64\n",
      "dtypes: float64(7), int64(1), object(18)\n",
      "memory usage: 341.8+ MB\n"
     ]
    }
   ],
   "source": [
    "cz_df.info()"
   ]
  },
  {
   "cell_type": "code",
   "execution_count": 8,
   "metadata": {},
   "outputs": [],
   "source": [
    "#Drop fields that will not be used for analysis\n",
    "cz_dropped = cz_df.drop(columns=['url','city','fuel','vin','size','image_url','lat','long','county_fips','county_name','state_fips','state_code','state_name','weather'])"
   ]
  },
  {
   "cell_type": "code",
   "execution_count": 9,
   "metadata": {},
   "outputs": [],
   "source": [
    "#Craigslist has many duplicate listings from buyers/bots attempting to sell vehicles\n",
    "clean_duplicates = cz_dropped.drop_duplicates(subset = cz_dropped.columns.difference(['city']),keep = 'last')"
   ]
  },
  {
   "cell_type": "code",
   "execution_count": 10,
   "metadata": {
    "scrolled": false
   },
   "outputs": [
    {
     "name": "stdout",
     "output_type": "stream",
     "text": [
      "<class 'pandas.core.frame.DataFrame'>\n",
      "Int64Index: 1295627 entries, 1 to 1723064\n",
      "Data columns (total 12 columns):\n",
      "price           1295627 non-null int64\n",
      "year            1290077 non-null float64\n",
      "manufacturer    1184478 non-null object\n",
      "make            1241194 non-null object\n",
      "condition       816598 non-null object\n",
      "cylinders       808206 non-null object\n",
      "odometer        855050 non-null float64\n",
      "title_status    1293788 non-null object\n",
      "transmission    1290449 non-null object\n",
      "drive           807320 non-null object\n",
      "type            762614 non-null object\n",
      "paint_color     790481 non-null object\n",
      "dtypes: float64(2), int64(1), object(9)\n",
      "memory usage: 128.5+ MB\n"
     ]
    }
   ],
   "source": [
    "clean_duplicates.info()"
   ]
  },
  {
   "cell_type": "code",
   "execution_count": 11,
   "metadata": {},
   "outputs": [
    {
     "name": "stderr",
     "output_type": "stream",
     "text": [
      "/home/kenneth/anaconda3/lib/python3.7/site-packages/ipykernel_launcher.py:2: UserWarning: Boolean Series key will be reindexed to match DataFrame index.\n",
      "  \n"
     ]
    }
   ],
   "source": [
    "#Would only like to look at vehicles with title status & odometer readings\n",
    "clean_df = clean_duplicates[clean_duplicates['title_status'].notnull() == True][clean_duplicates['odometer'].notnull() == True]"
   ]
  },
  {
   "cell_type": "code",
   "execution_count": 12,
   "metadata": {
    "scrolled": false
   },
   "outputs": [
    {
     "name": "stdout",
     "output_type": "stream",
     "text": [
      "<class 'pandas.core.frame.DataFrame'>\n",
      "Int64Index: 854244 entries, 4 to 1723064\n",
      "Data columns (total 12 columns):\n",
      "price           854244 non-null int64\n",
      "year            850122 non-null float64\n",
      "manufacturer    804056 non-null object\n",
      "make            833809 non-null object\n",
      "condition       614959 non-null object\n",
      "cylinders       626618 non-null object\n",
      "odometer        854244 non-null float64\n",
      "title_status    854244 non-null object\n",
      "transmission    850474 non-null object\n",
      "drive           644914 non-null object\n",
      "type            624577 non-null object\n",
      "paint_color     632381 non-null object\n",
      "dtypes: float64(2), int64(1), object(9)\n",
      "memory usage: 84.7+ MB\n"
     ]
    }
   ],
   "source": [
    "clean_df.info()"
   ]
  },
  {
   "cell_type": "markdown",
   "metadata": {},
   "source": [
    "Force relevant string fields to lowercase to enable consistent, searchable format"
   ]
  },
  {
   "cell_type": "code",
   "execution_count": 14,
   "metadata": {},
   "outputs": [],
   "source": [
    "clean_df['manufacturer'] = clean_df['manufacturer'].str.lower()"
   ]
  },
  {
   "cell_type": "code",
   "execution_count": 15,
   "metadata": {},
   "outputs": [],
   "source": [
    "clean_df['make'] = clean_df['make'].str.lower()"
   ]
  },
  {
   "cell_type": "markdown",
   "metadata": {},
   "source": [
    "Outliers in price, year, & mileage will be removed."
   ]
  },
  {
   "cell_type": "code",
   "execution_count": 18,
   "metadata": {},
   "outputs": [
    {
     "data": {
      "text/plain": [
       "108971.77500000747"
      ]
     },
     "execution_count": 18,
     "metadata": {},
     "output_type": "execute_result"
    }
   ],
   "source": [
    "#remove outliers, misleading ads with incorrect sales price\n",
    "clean_df.price.quantile(q = 0.999)"
   ]
  },
  {
   "cell_type": "code",
   "execution_count": 19,
   "metadata": {},
   "outputs": [],
   "source": [
    "#Filter for year > 1979,  $500 > price < $300,000, odometer <300,000 miles\n",
    "clean_df = clean_df[(clean_df['year'] > 1979) & (clean_df['year'] < 2020) & (clean_df['price'] < clean_df['price'].quantile(.999)) & (clean_df['price'] > 500) & (clean_df['odometer']<300000)]"
   ]
  },
  {
   "cell_type": "code",
   "execution_count": 20,
   "metadata": {
    "scrolled": false
   },
   "outputs": [
    {
     "data": {
      "text/html": [
       "<div>\n",
       "<style scoped>\n",
       "    .dataframe tbody tr th:only-of-type {\n",
       "        vertical-align: middle;\n",
       "    }\n",
       "\n",
       "    .dataframe tbody tr th {\n",
       "        vertical-align: top;\n",
       "    }\n",
       "\n",
       "    .dataframe thead th {\n",
       "        text-align: right;\n",
       "    }\n",
       "</style>\n",
       "<table border=\"1\" class=\"dataframe\">\n",
       "  <thead>\n",
       "    <tr style=\"text-align: right;\">\n",
       "      <th></th>\n",
       "      <th>price</th>\n",
       "      <th>year</th>\n",
       "      <th>odometer</th>\n",
       "    </tr>\n",
       "  </thead>\n",
       "  <tbody>\n",
       "    <tr>\n",
       "      <th>count</th>\n",
       "      <td>807127.000000</td>\n",
       "      <td>807127.000000</td>\n",
       "      <td>807127.000000</td>\n",
       "    </tr>\n",
       "    <tr>\n",
       "      <th>mean</th>\n",
       "      <td>11276.261666</td>\n",
       "      <td>2007.448234</td>\n",
       "      <td>111655.681769</td>\n",
       "    </tr>\n",
       "    <tr>\n",
       "      <th>std</th>\n",
       "      <td>10493.030846</td>\n",
       "      <td>6.698509</td>\n",
       "      <td>63743.711122</td>\n",
       "    </tr>\n",
       "    <tr>\n",
       "      <th>min</th>\n",
       "      <td>502.000000</td>\n",
       "      <td>1980.000000</td>\n",
       "      <td>0.000000</td>\n",
       "    </tr>\n",
       "    <tr>\n",
       "      <th>25%</th>\n",
       "      <td>3900.000000</td>\n",
       "      <td>2004.000000</td>\n",
       "      <td>62048.000000</td>\n",
       "    </tr>\n",
       "    <tr>\n",
       "      <th>50%</th>\n",
       "      <td>7900.000000</td>\n",
       "      <td>2008.000000</td>\n",
       "      <td>111800.000000</td>\n",
       "    </tr>\n",
       "    <tr>\n",
       "      <th>75%</th>\n",
       "      <td>15500.000000</td>\n",
       "      <td>2013.000000</td>\n",
       "      <td>156000.000000</td>\n",
       "    </tr>\n",
       "    <tr>\n",
       "      <th>max</th>\n",
       "      <td>108915.000000</td>\n",
       "      <td>2019.000000</td>\n",
       "      <td>299999.000000</td>\n",
       "    </tr>\n",
       "  </tbody>\n",
       "</table>\n",
       "</div>"
      ],
      "text/plain": [
       "               price           year       odometer\n",
       "count  807127.000000  807127.000000  807127.000000\n",
       "mean    11276.261666    2007.448234  111655.681769\n",
       "std     10493.030846       6.698509   63743.711122\n",
       "min       502.000000    1980.000000       0.000000\n",
       "25%      3900.000000    2004.000000   62048.000000\n",
       "50%      7900.000000    2008.000000  111800.000000\n",
       "75%     15500.000000    2013.000000  156000.000000\n",
       "max    108915.000000    2019.000000  299999.000000"
      ]
     },
     "execution_count": 20,
     "metadata": {},
     "output_type": "execute_result"
    }
   ],
   "source": [
    "clean_df.describe()"
   ]
  },
  {
   "cell_type": "code",
   "execution_count": 21,
   "metadata": {},
   "outputs": [
    {
     "name": "stdout",
     "output_type": "stream",
     "text": [
      "<class 'pandas.core.frame.DataFrame'>\n",
      "Int64Index: 807127 entries, 7 to 1723064\n",
      "Data columns (total 12 columns):\n",
      "price           807127 non-null int64\n",
      "year            807127 non-null float64\n",
      "manufacturer    764808 non-null object\n",
      "make            788929 non-null object\n",
      "condition       577213 non-null object\n",
      "cylinders       590548 non-null object\n",
      "odometer        807127 non-null float64\n",
      "title_status    807127 non-null object\n",
      "transmission    803417 non-null object\n",
      "drive           609381 non-null object\n",
      "type            590276 non-null object\n",
      "paint_color     596654 non-null object\n",
      "dtypes: float64(2), int64(1), object(9)\n",
      "memory usage: 80.1+ MB\n"
     ]
    }
   ],
   "source": [
    "clean_df.info()"
   ]
  },
  {
   "cell_type": "code",
   "execution_count": 22,
   "metadata": {
    "scrolled": true
   },
   "outputs": [
    {
     "data": {
      "text/plain": [
       "array([[<matplotlib.axes._subplots.AxesSubplot object at 0x7f2f2b082e10>]],\n",
       "      dtype=object)"
      ]
     },
     "execution_count": 22,
     "metadata": {},
     "output_type": "execute_result"
    },
    {
     "data": {
      "image/png": "[encoded data removed]",
      "text/plain": [
       "<Figure size 432x288 with 1 Axes>"
      ]
     },
     "metadata": {
      "needs_background": "light"
     },
     "output_type": "display_data"
    }
   ],
   "source": [
    "clean_df.hist('price')"
   ]
  },
  {
   "cell_type": "code",
   "execution_count": 23,
   "metadata": {},
   "outputs": [
    {
     "data": {
      "text/plain": [
       "array([[<matplotlib.axes._subplots.AxesSubplot object at 0x7f2f2b021048>,\n",
       "        <matplotlib.axes._subplots.AxesSubplot object at 0x7f2f2af85630>],\n",
       "       [<matplotlib.axes._subplots.AxesSubplot object at 0x7f2f2af2bb70>,\n",
       "        <matplotlib.axes._subplots.AxesSubplot object at 0x7f2f2aedf128>]],\n",
       "      dtype=object)"
      ]
     },
     "execution_count": 23,
     "metadata": {},
     "output_type": "execute_result"
    },
    {
     "data": {
      "image/png": "[encoded data removed]",
      "text/plain": [
       "<Figure size 432x288 with 4 Axes>"
      ]
     },
     "metadata": {
      "needs_background": "light"
     },
     "output_type": "display_data"
    }
   ],
   "source": [
    "clean_df.hist()"
   ]
  },
  {
   "cell_type": "code",
   "execution_count": 29,
   "metadata": {
    "scrolled": true
   },
   "outputs": [
    {
     "data": {
      "text/plain": [
       "Text(0.5, 1.0, 'Price Density Plot')"
      ]
     },
     "execution_count": 29,
     "metadata": {},
     "output_type": "execute_result"
    },
    {
     "data": {
      "image/png": "[encoded data removed]",
      "text/plain": [
       "<Figure size 432x288 with 1 Axes>"
      ]
     },
     "metadata": {
      "needs_background": "light"
     },
     "output_type": "display_data"
    }
   ],
   "source": [
    "clean_df.price.plot.density()\n",
    "plt.xlim(0,110000)\n",
    "plt.title('Price Density Plot')"
   ]
  },
  {
   "cell_type": "markdown",
   "metadata": {},
   "source": [
    "The BMW M3 is my personal favorite series of cars (DUH)...I would like to dive in and take a look at whats available from the Craigslist dataset"
   ]
  },
  {
   "cell_type": "code",
   "execution_count": 25,
   "metadata": {},
   "outputs": [],
   "source": [
    "bmw_m3 = clean_df[(clean_df['manufacturer'] == 'bmw') & (clean_df['make'] == 'm3')]"
   ]
  },
  {
   "cell_type": "code",
   "execution_count": 26,
   "metadata": {
    "scrolled": false
   },
   "outputs": [
    {
     "data": {
      "text/html": [
       "<div>\n",
       "<style scoped>\n",
       "    .dataframe tbody tr th:only-of-type {\n",
       "        vertical-align: middle;\n",
       "    }\n",
       "\n",
       "    .dataframe tbody tr th {\n",
       "        vertical-align: top;\n",
       "    }\n",
       "\n",
       "    .dataframe thead th {\n",
       "        text-align: right;\n",
       "    }\n",
       "</style>\n",
       "<table border=\"1\" class=\"dataframe\">\n",
       "  <thead>\n",
       "    <tr style=\"text-align: right;\">\n",
       "      <th></th>\n",
       "      <th>price</th>\n",
       "      <th>year</th>\n",
       "      <th>manufacturer</th>\n",
       "      <th>make</th>\n",
       "      <th>condition</th>\n",
       "      <th>cylinders</th>\n",
       "      <th>odometer</th>\n",
       "      <th>title_status</th>\n",
       "      <th>transmission</th>\n",
       "      <th>drive</th>\n",
       "      <th>type</th>\n",
       "      <th>paint_color</th>\n",
       "    </tr>\n",
       "  </thead>\n",
       "  <tbody>\n",
       "    <tr>\n",
       "      <th>8281</th>\n",
       "      <td>23250</td>\n",
       "      <td>2009.0</td>\n",
       "      <td>bmw</td>\n",
       "      <td>m3</td>\n",
       "      <td>NaN</td>\n",
       "      <td>8 cylinders</td>\n",
       "      <td>65250.0</td>\n",
       "      <td>lien</td>\n",
       "      <td>other</td>\n",
       "      <td>rwd</td>\n",
       "      <td>coupe</td>\n",
       "      <td>black</td>\n",
       "    </tr>\n",
       "    <tr>\n",
       "      <th>8851</th>\n",
       "      <td>16000</td>\n",
       "      <td>2011.0</td>\n",
       "      <td>bmw</td>\n",
       "      <td>m3</td>\n",
       "      <td>excellent</td>\n",
       "      <td>8 cylinders</td>\n",
       "      <td>65000.0</td>\n",
       "      <td>missing</td>\n",
       "      <td>manual</td>\n",
       "      <td>rwd</td>\n",
       "      <td>convertible</td>\n",
       "      <td>black</td>\n",
       "    </tr>\n",
       "    <tr>\n",
       "      <th>13170</th>\n",
       "      <td>29000</td>\n",
       "      <td>2006.0</td>\n",
       "      <td>bmw</td>\n",
       "      <td>m3</td>\n",
       "      <td>excellent</td>\n",
       "      <td>6 cylinders</td>\n",
       "      <td>97451.0</td>\n",
       "      <td>clean</td>\n",
       "      <td>manual</td>\n",
       "      <td>rwd</td>\n",
       "      <td>coupe</td>\n",
       "      <td>black</td>\n",
       "    </tr>\n",
       "    <tr>\n",
       "      <th>15469</th>\n",
       "      <td>30000</td>\n",
       "      <td>2012.0</td>\n",
       "      <td>bmw</td>\n",
       "      <td>m3</td>\n",
       "      <td>NaN</td>\n",
       "      <td>NaN</td>\n",
       "      <td>46300.0</td>\n",
       "      <td>clean</td>\n",
       "      <td>automatic</td>\n",
       "      <td>NaN</td>\n",
       "      <td>NaN</td>\n",
       "      <td>NaN</td>\n",
       "    </tr>\n",
       "    <tr>\n",
       "      <th>42881</th>\n",
       "      <td>12500</td>\n",
       "      <td>2003.0</td>\n",
       "      <td>bmw</td>\n",
       "      <td>m3</td>\n",
       "      <td>excellent</td>\n",
       "      <td>NaN</td>\n",
       "      <td>102600.0</td>\n",
       "      <td>clean</td>\n",
       "      <td>automatic</td>\n",
       "      <td>rwd</td>\n",
       "      <td>convertible</td>\n",
       "      <td>silver</td>\n",
       "    </tr>\n",
       "  </tbody>\n",
       "</table>\n",
       "</div>"
      ],
      "text/plain": [
       "       price    year manufacturer make  condition    cylinders  odometer  \\\n",
       "8281   23250  2009.0          bmw   m3        NaN  8 cylinders   65250.0   \n",
       "8851   16000  2011.0          bmw   m3  excellent  8 cylinders   65000.0   \n",
       "13170  29000  2006.0          bmw   m3  excellent  6 cylinders   97451.0   \n",
       "15469  30000  2012.0          bmw   m3        NaN          NaN   46300.0   \n",
       "42881  12500  2003.0          bmw   m3  excellent          NaN  102600.0   \n",
       "\n",
       "      title_status transmission drive         type paint_color  \n",
       "8281          lien        other   rwd        coupe       black  \n",
       "8851       missing       manual   rwd  convertible       black  \n",
       "13170        clean       manual   rwd        coupe       black  \n",
       "15469        clean    automatic   NaN          NaN         NaN  \n",
       "42881        clean    automatic   rwd  convertible      silver  "
      ]
     },
     "execution_count": 26,
     "metadata": {},
     "output_type": "execute_result"
    }
   ],
   "source": [
    "bmw_m3.head()"
   ]
  },
  {
   "cell_type": "code",
   "execution_count": 27,
   "metadata": {},
   "outputs": [
    {
     "data": {
      "text/html": [
       "<div>\n",
       "<style scoped>\n",
       "    .dataframe tbody tr th:only-of-type {\n",
       "        vertical-align: middle;\n",
       "    }\n",
       "\n",
       "    .dataframe tbody tr th {\n",
       "        vertical-align: top;\n",
       "    }\n",
       "\n",
       "    .dataframe thead th {\n",
       "        text-align: right;\n",
       "    }\n",
       "</style>\n",
       "<table border=\"1\" class=\"dataframe\">\n",
       "  <thead>\n",
       "    <tr style=\"text-align: right;\">\n",
       "      <th></th>\n",
       "      <th>price</th>\n",
       "      <th>year</th>\n",
       "      <th>odometer</th>\n",
       "    </tr>\n",
       "  </thead>\n",
       "  <tbody>\n",
       "    <tr>\n",
       "      <th>count</th>\n",
       "      <td>462.000000</td>\n",
       "      <td>462.000000</td>\n",
       "      <td>462.000000</td>\n",
       "    </tr>\n",
       "    <tr>\n",
       "      <th>mean</th>\n",
       "      <td>21227.413420</td>\n",
       "      <td>2005.378788</td>\n",
       "      <td>91841.194805</td>\n",
       "    </tr>\n",
       "    <tr>\n",
       "      <th>std</th>\n",
       "      <td>14638.153079</td>\n",
       "      <td>6.247726</td>\n",
       "      <td>55539.682985</td>\n",
       "    </tr>\n",
       "    <tr>\n",
       "      <th>min</th>\n",
       "      <td>509.000000</td>\n",
       "      <td>1988.000000</td>\n",
       "      <td>0.000000</td>\n",
       "    </tr>\n",
       "    <tr>\n",
       "      <th>25%</th>\n",
       "      <td>10500.000000</td>\n",
       "      <td>2002.000000</td>\n",
       "      <td>52711.250000</td>\n",
       "    </tr>\n",
       "    <tr>\n",
       "      <th>50%</th>\n",
       "      <td>16999.500000</td>\n",
       "      <td>2004.500000</td>\n",
       "      <td>87935.500000</td>\n",
       "    </tr>\n",
       "    <tr>\n",
       "      <th>75%</th>\n",
       "      <td>27995.000000</td>\n",
       "      <td>2010.750000</td>\n",
       "      <td>128693.000000</td>\n",
       "    </tr>\n",
       "    <tr>\n",
       "      <th>max</th>\n",
       "      <td>79500.000000</td>\n",
       "      <td>2018.000000</td>\n",
       "      <td>288000.000000</td>\n",
       "    </tr>\n",
       "  </tbody>\n",
       "</table>\n",
       "</div>"
      ],
      "text/plain": [
       "              price         year       odometer\n",
       "count    462.000000   462.000000     462.000000\n",
       "mean   21227.413420  2005.378788   91841.194805\n",
       "std    14638.153079     6.247726   55539.682985\n",
       "min      509.000000  1988.000000       0.000000\n",
       "25%    10500.000000  2002.000000   52711.250000\n",
       "50%    16999.500000  2004.500000   87935.500000\n",
       "75%    27995.000000  2010.750000  128693.000000\n",
       "max    79500.000000  2018.000000  288000.000000"
      ]
     },
     "execution_count": 27,
     "metadata": {},
     "output_type": "execute_result"
    }
   ],
   "source": [
    "bmw_m3.describe()"
   ]
  },
  {
   "cell_type": "code",
   "execution_count": 28,
   "metadata": {},
   "outputs": [
    {
     "data": {
      "text/plain": [
       "array([[<matplotlib.axes._subplots.AxesSubplot object at 0x7f2f29467128>,\n",
       "        <matplotlib.axes._subplots.AxesSubplot object at 0x7f2f29413c18>],\n",
       "       [<matplotlib.axes._subplots.AxesSubplot object at 0x7f2f29444198>,\n",
       "        <matplotlib.axes._subplots.AxesSubplot object at 0x7f2f293e9710>]],\n",
       "      dtype=object)"
      ]
     },
     "execution_count": 28,
     "metadata": {},
     "output_type": "execute_result"
    },
    {
     "data": {
      "image/png": "[encoded data removed]",
      "text/plain": [
       "<Figure size 432x288 with 4 Axes>"
      ]
     },
     "metadata": {
      "needs_background": "light"
     },
     "output_type": "display_data"
    }
   ],
   "source": [
    "bmw_m3.hist()"
   ]
  },
  {
   "cell_type": "markdown",
   "metadata": {},
   "source": [
    "Still a WIP..."
   ]
  }
 ],
 "metadata": {
  "kernelspec": {
   "display_name": "Python 3",
   "language": "python",
   "name": "python3"
  },
  "language_info": {
   "codemirror_mode": {
    "name": "ipython",
    "version": 3
   },
   "file_extension": ".py",
   "mimetype": "text/x-python",
   "name": "python",
   "nbconvert_exporter": "python",
   "pygments_lexer": "ipython3",
   "version": "3.7.3"
  }
 },
 "nbformat": 4,
 "nbformat_minor": 2
}
